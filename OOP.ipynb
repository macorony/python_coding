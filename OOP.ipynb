{
  "nbformat": 4,
  "nbformat_minor": 0,
  "metadata": {
    "colab": {
      "provenance": [],
      "authorship_tag": "ABX9TyPrbN8kW1oJ3uIdP8JBf/Yk",
      "include_colab_link": true
    },
    "kernelspec": {
      "name": "python3",
      "display_name": "Python 3"
    },
    "language_info": {
      "name": "python"
    }
  },
  "cells": [
    {
      "cell_type": "markdown",
      "metadata": {
        "id": "view-in-github",
        "colab_type": "text"
      },
      "source": [
        "<a href=\"https://colab.research.google.com/github/macorony/python_coding/blob/main/OOP.ipynb\" target=\"_parent\"><img src=\"https://colab.research.google.com/assets/colab-badge.svg\" alt=\"Open In Colab\"/></a>"
      ]
    },
    {
      "cell_type": "code",
      "execution_count": null,
      "metadata": {
        "id": "J5RLPthFon7j"
      },
      "outputs": [],
      "source": [
        "class Dog:\n",
        "  pass"
      ]
    },
    {
      "cell_type": "code",
      "source": [
        "a_dog =  Dog()"
      ],
      "metadata": {
        "id": "pThsafKGr0wD"
      },
      "execution_count": null,
      "outputs": []
    },
    {
      "cell_type": "code",
      "source": [
        "a_dog"
      ],
      "metadata": {
        "colab": {
          "base_uri": "https://localhost:8080/"
        },
        "id": "JssQZuLvr97P",
        "outputId": "6ae79042-1c94-4938-9a2c-920ba344309c"
      },
      "execution_count": null,
      "outputs": [
        {
          "output_type": "execute_result",
          "data": {
            "text/plain": [
              "<__main__.Dog at 0x7c8372f51780>"
            ]
          },
          "metadata": {},
          "execution_count": 3
        }
      ]
    },
    {
      "cell_type": "code",
      "source": [
        "class Dog:\n",
        "  # class attribute\n",
        "  attr1 = \"mammal\"\n",
        "  # instance attribute\n",
        "  def __init__(self, name):\n",
        "    self.name = name"
      ],
      "metadata": {
        "id": "CoReHcYqr-9C"
      },
      "execution_count": null,
      "outputs": []
    },
    {
      "cell_type": "code",
      "source": [
        "rodger = Dog(\"Rodger\")\n",
        "tommy = Dog(\"Tommy\")"
      ],
      "metadata": {
        "id": "5z1YuYoLs3V6"
      },
      "execution_count": null,
      "outputs": []
    },
    {
      "cell_type": "code",
      "source": [
        "print(rodger)\n",
        "print(tommy)"
      ],
      "metadata": {
        "colab": {
          "base_uri": "https://localhost:8080/"
        },
        "id": "QQF-jj63s_Kz",
        "outputId": "a1732086-022d-48a6-c4fb-dff24581c309"
      },
      "execution_count": null,
      "outputs": [
        {
          "output_type": "stream",
          "name": "stdout",
          "text": [
            "<__main__.Dog object at 0x7c8372f51a20>\n",
            "<__main__.Dog object at 0x7c8372f515d0>\n"
          ]
        }
      ]
    },
    {
      "cell_type": "code",
      "source": [
        "print(\"Rodger is a {}\".format(rodger.__class__.attr1))\n",
        "print(f\"Tommy is a {tommy.__class__.attr1}\")\n",
        "print(f\"Its name is {rodger.name}\")\n",
        "print(f\"Its name is {tommy.name}\")"
      ],
      "metadata": {
        "colab": {
          "base_uri": "https://localhost:8080/"
        },
        "id": "oVge3j_XtD_u",
        "outputId": "4c9274a3-9164-4273-f21b-c6dce354a212"
      },
      "execution_count": null,
      "outputs": [
        {
          "output_type": "stream",
          "name": "stdout",
          "text": [
            "Rodger is a mammal\n",
            "Tommy is a mammal\n",
            "Its name is Rodger\n",
            "Its name is Tommy\n"
          ]
        }
      ]
    },
    {
      "cell_type": "code",
      "source": [
        "class Dog:\n",
        "  # class attribute\n",
        "  attr1 = \"mammal\"\n",
        "  # instance\n",
        "  def __init__(self, name):\n",
        "    self.name = name\n",
        "  def speak(self):\n",
        "    print(\"My name is {}\".format(self.name))\n",
        "\n",
        "  def bark(self):\n",
        "    print(\"wang wang!!!\")\n"
      ],
      "metadata": {
        "id": "7_KYWUqmtrfw"
      },
      "execution_count": null,
      "outputs": []
    },
    {
      "cell_type": "code",
      "source": [
        "jackson = Dog(\"Jackson\")"
      ],
      "metadata": {
        "id": "KJbQ1uhZvIcE"
      },
      "execution_count": null,
      "outputs": []
    },
    {
      "cell_type": "code",
      "source": [
        "jackson.bark()"
      ],
      "metadata": {
        "colab": {
          "base_uri": "https://localhost:8080/"
        },
        "id": "bFUeZZHFvN0E",
        "outputId": "5dd07664-1edb-43ae-d6af-73ee0e468cfb"
      },
      "execution_count": null,
      "outputs": [
        {
          "output_type": "stream",
          "name": "stdout",
          "text": [
            "wang wang!!!\n"
          ]
        }
      ]
    },
    {
      "cell_type": "code",
      "source": [
        "# parent class\n",
        "class Person(object):\n",
        "  def __init__(self, name, idnumber):\n",
        "    self.name = name\n",
        "    self.idnumber = idnumber\n",
        "\n",
        "  def display(self):\n",
        "    print(self.name)\n",
        "    print(self.idnumber)\n",
        "  def details(self):\n",
        "    print(\"My name is {}\".format(self.name))\n",
        "    print(\"My idnumber is {}\".format(self.idnumber))\n",
        "\n",
        "# child class\n",
        "class Employee(Person):\n",
        "  def __init__(self, name, idnumber, salary, post):\n",
        "    self.salary =  salary\n",
        "    self.post = post\n",
        "    # invoking the __init__ of the parent class\n",
        "    Person.__init__(self, name, idnumber)\n",
        "\n",
        "  def details(self):\n",
        "    print(\"My name is {}\".format(self.name))\n",
        "    print(\"Idnumber is {}\".format(self.idnumber))\n",
        "    print(\"Post is {}\".format(self.post))"
      ],
      "metadata": {
        "id": "07RuEGfdwb69"
      },
      "execution_count": null,
      "outputs": []
    },
    {
      "cell_type": "code",
      "source": [
        "one = Employee(\"John\", 123456, 80000, \"Associate\")\n",
        "one.display()\n",
        "one.details()"
      ],
      "metadata": {
        "colab": {
          "base_uri": "https://localhost:8080/"
        },
        "id": "2pVdWKBmwakN",
        "outputId": "aeb501e0-2a6d-4b4c-9232-d68cf02bc62a"
      },
      "execution_count": null,
      "outputs": [
        {
          "output_type": "stream",
          "name": "stdout",
          "text": [
            "John\n",
            "123456\n",
            "My name is John\n",
            "Idnumber is 123456\n",
            "Post is Associate\n"
          ]
        }
      ]
    },
    {
      "cell_type": "code",
      "source": [
        "class Bird:\n",
        "  def intro(self):\n",
        "    print(\"There are man types of birds\")\n",
        "\n",
        "  def flight(self):\n",
        "    print(\"Most of the birds can fly but some cannot\")\n",
        "\n",
        "class Sparrow(Bird):\n",
        "  def flight(self):\n",
        "    print(\"Sparrows can fly\")\n",
        "\n",
        "class Ostrich(Bird):\n",
        "  def flight(self):\n",
        "    print(\"Ostriches cannot fly\")\n"
      ],
      "metadata": {
        "id": "U56oEL2jvS0J"
      },
      "execution_count": null,
      "outputs": []
    },
    {
      "cell_type": "code",
      "source": [
        "aBird = Bird()\n",
        "aSparrow = Sparrow()\n",
        "aOstrich = Ostrich()"
      ],
      "metadata": {
        "id": "QphH0DykIkbS"
      },
      "execution_count": null,
      "outputs": []
    },
    {
      "cell_type": "code",
      "source": [
        "aBird.intro()\n",
        "aBird.flight()"
      ],
      "metadata": {
        "id": "_CNFOARhzgPp",
        "colab": {
          "base_uri": "https://localhost:8080/"
        },
        "outputId": "05b92073-e8fb-43bb-868b-e2b74bc7ac10"
      },
      "execution_count": null,
      "outputs": [
        {
          "output_type": "stream",
          "name": "stdout",
          "text": [
            "There are man types of birds\n",
            "Most of the birds can fly but some cannot\n"
          ]
        }
      ]
    },
    {
      "cell_type": "code",
      "source": [
        "aSparrow.intro()\n",
        "aSparrow.flight()"
      ],
      "metadata": {
        "colab": {
          "base_uri": "https://localhost:8080/"
        },
        "id": "vv2FWPSKJY7m",
        "outputId": "fec456c1-a1dc-4631-b1c7-263dc520d6b1"
      },
      "execution_count": null,
      "outputs": [
        {
          "output_type": "stream",
          "name": "stdout",
          "text": [
            "There are man types of birds\n",
            "Sparrows can fly\n"
          ]
        }
      ]
    },
    {
      "cell_type": "code",
      "source": [
        "aOstrich.intro()\n",
        "aOstrich.flight()"
      ],
      "metadata": {
        "colab": {
          "base_uri": "https://localhost:8080/"
        },
        "id": "yjj2yVCTKDoS",
        "outputId": "cdc81a5a-56ce-42b1-8e87-25867ed0b5e2"
      },
      "execution_count": null,
      "outputs": [
        {
          "output_type": "stream",
          "name": "stdout",
          "text": [
            "There are man types of birds\n",
            "Ostriches cannot fly\n"
          ]
        }
      ]
    },
    {
      "cell_type": "code",
      "source": [
        "class Base:\n",
        "  def __init__(self):\n",
        "    self.a = \"hello world\"\n",
        "    self.__c = \"invisible expression\"\n",
        "\n",
        "class Derived(Base):\n",
        "  def __init__(self):\n",
        "    Base.__init__(self)\n",
        "    print(\"I am the child of the base class\")\n",
        "    # print(self.__c)"
      ],
      "metadata": {
        "id": "x_NBGGMSJsLO"
      },
      "execution_count": null,
      "outputs": []
    },
    {
      "cell_type": "code",
      "source": [
        "obj1 = Base()\n",
        "print(obj1.a)"
      ],
      "metadata": {
        "colab": {
          "base_uri": "https://localhost:8080/"
        },
        "id": "0109RIJWMxrG",
        "outputId": "ca926d1d-0abb-4189-ed51-c0f736f49bc6"
      },
      "execution_count": null,
      "outputs": [
        {
          "output_type": "stream",
          "name": "stdout",
          "text": [
            "hello world\n"
          ]
        }
      ]
    },
    {
      "cell_type": "code",
      "source": [
        "obj2 = Derived()"
      ],
      "metadata": {
        "colab": {
          "base_uri": "https://localhost:8080/"
        },
        "id": "wWV4QYVYULIm",
        "outputId": "e4296131-39f2-4972-8008-2b71ce3df6b6"
      },
      "execution_count": null,
      "outputs": [
        {
          "output_type": "stream",
          "name": "stdout",
          "text": [
            "I am the child of the base class\n"
          ]
        }
      ]
    },
    {
      "cell_type": "code",
      "source": [
        "class Parent():\n",
        "  def __init__(self):\n",
        "    self.name = \"Wang\"\n",
        "    self.age = 34"
      ],
      "metadata": {
        "id": "P9V2CQdjUNSN"
      },
      "execution_count": 2,
      "outputs": []
    },
    {
      "cell_type": "code",
      "source": [
        "class Child(Parent):\n",
        "  def __init__(self, relation):\n",
        "    self.relation = relation\n",
        "    Parent.__init__(self)"
      ],
      "metadata": {
        "id": "mRJbvHSyd10_"
      },
      "execution_count": 3,
      "outputs": []
    },
    {
      "cell_type": "code",
      "source": [
        "class Rectangle:\n",
        "  def __init__(self, length, width):\n",
        "    if length <= width:\n",
        "      raise Exception(\"The length must be larger than the width\")\n",
        "    self.__length = length\n",
        "    self.__width = width\n",
        "\n",
        "  def area(self):\n",
        "    return self.__length * self.__width\n",
        "\n",
        "  def perimeter(self):\n",
        "    return 2 * (self.__length + self.__width)"
      ],
      "metadata": {
        "id": "c9hP1-7XCtM9"
      },
      "execution_count": 21,
      "outputs": []
    },
    {
      "cell_type": "code",
      "source": [
        "rect = Rectangle(5, 4)\n",
        "print(\"The area of the rectangle is {}\".format(rect.area()))\n",
        "print(\"The perimeter of the rectangle is {}\".format(rect.perimeter()))"
      ],
      "metadata": {
        "id": "FV8Y2U1zDsK2",
        "outputId": "2107920d-79b9-444e-d8da-bc95cef358dd",
        "colab": {
          "base_uri": "https://localhost:8080/"
        }
      },
      "execution_count": 22,
      "outputs": [
        {
          "output_type": "stream",
          "name": "stdout",
          "text": [
            "The area of the rectangle is 20\n",
            "The perimeter of the rectangle is 18\n"
          ]
        }
      ]
    },
    {
      "cell_type": "code",
      "source": [
        "try:\n",
        "  print(b)\n",
        "except:\n",
        "  print(\"The length value must be larger than the width value\")\n"
      ],
      "metadata": {
        "id": "Re2GByiWEipZ",
        "outputId": "b859c1fe-b3a2-4b52-c38c-af5bb2cf93ba",
        "colab": {
          "base_uri": "https://localhost:8080/"
        }
      },
      "execution_count": 11,
      "outputs": [
        {
          "output_type": "stream",
          "name": "stdout",
          "text": [
            "The length value must be larger than the width value\n"
          ]
        }
      ]
    },
    {
      "cell_type": "code",
      "source": [
        "x = -11\n",
        "if x < 0:\n",
        "  raise Exception(\"Sorry, no pass\")"
      ],
      "metadata": {
        "id": "W2cOR86ME_iv",
        "outputId": "014cec3c-9e27-457c-c447-d6f796a0fb7b",
        "colab": {
          "base_uri": "https://localhost:8080/",
          "height": 176
        }
      },
      "execution_count": 13,
      "outputs": [
        {
          "output_type": "error",
          "ename": "Exception",
          "evalue": "Sorry, no pass",
          "traceback": [
            "\u001b[0;31m---------------------------------------------------------------------------\u001b[0m",
            "\u001b[0;31mException\u001b[0m                                 Traceback (most recent call last)",
            "\u001b[0;32m<ipython-input-13-7bdc674ca934>\u001b[0m in \u001b[0;36m<cell line: 2>\u001b[0;34m()\u001b[0m\n\u001b[1;32m      1\u001b[0m \u001b[0mx\u001b[0m \u001b[0;34m=\u001b[0m \u001b[0;34m-\u001b[0m\u001b[0;36m11\u001b[0m\u001b[0;34m\u001b[0m\u001b[0;34m\u001b[0m\u001b[0m\n\u001b[1;32m      2\u001b[0m \u001b[0;32mif\u001b[0m \u001b[0mx\u001b[0m \u001b[0;34m<\u001b[0m \u001b[0;36m0\u001b[0m\u001b[0;34m:\u001b[0m\u001b[0;34m\u001b[0m\u001b[0;34m\u001b[0m\u001b[0m\n\u001b[0;32m----> 3\u001b[0;31m   \u001b[0;32mraise\u001b[0m \u001b[0mException\u001b[0m\u001b[0;34m(\u001b[0m\u001b[0;34m\"Sorry, no pass\"\u001b[0m\u001b[0;34m)\u001b[0m\u001b[0;34m\u001b[0m\u001b[0;34m\u001b[0m\u001b[0m\n\u001b[0m",
            "\u001b[0;31mException\u001b[0m: Sorry, no pass"
          ]
        }
      ]
    },
    {
      "cell_type": "code",
      "source": [
        "class Higher:\n",
        "  brand = \"top\"\n",
        "  def __init__(self, color, model):\n",
        "    self._color = color\n",
        "    self._model = model\n",
        "  def action(self):\n",
        "    print(f\"The color is {self._color} and the model is {self._model}.\")\n",
        ""
      ],
      "metadata": {
        "id": "SK-6f_OTFtTs"
      },
      "execution_count": 23,
      "outputs": []
    },
    {
      "cell_type": "code",
      "source": [
        "class Lower(Higher):\n",
        "  def __init__(self, color, model, addition):\n",
        "    super().__init__(color, model)\n",
        ""
      ],
      "metadata": {
        "id": "ThUxaOPrQmVr"
      },
      "execution_count": 24,
      "outputs": []
    },
    {
      "cell_type": "code",
      "source": [
        "obj_lower = Lower(\"red\", \"auto\", \"none\")\n",
        "obj_lower.color"
      ],
      "metadata": {
        "id": "WAGI2U1LQ2cJ",
        "outputId": "4fc6602b-0d5b-4468-b3e1-43cc2e831422",
        "colab": {
          "base_uri": "https://localhost:8080/",
          "height": 159
        }
      },
      "execution_count": 27,
      "outputs": [
        {
          "output_type": "error",
          "ename": "AttributeError",
          "evalue": "'Lower' object has no attribute 'color'",
          "traceback": [
            "\u001b[0;31m---------------------------------------------------------------------------\u001b[0m",
            "\u001b[0;31mAttributeError\u001b[0m                            Traceback (most recent call last)",
            "\u001b[0;32m<ipython-input-27-c22ce501a4bf>\u001b[0m in \u001b[0;36m<cell line: 2>\u001b[0;34m()\u001b[0m\n\u001b[1;32m      1\u001b[0m \u001b[0mobj_lower\u001b[0m \u001b[0;34m=\u001b[0m \u001b[0mLower\u001b[0m\u001b[0;34m(\u001b[0m\u001b[0;34m\"red\"\u001b[0m\u001b[0;34m,\u001b[0m \u001b[0;34m\"auto\"\u001b[0m\u001b[0;34m,\u001b[0m \u001b[0;34m\"none\"\u001b[0m\u001b[0;34m)\u001b[0m\u001b[0;34m\u001b[0m\u001b[0;34m\u001b[0m\u001b[0m\n\u001b[0;32m----> 2\u001b[0;31m \u001b[0mobj_lower\u001b[0m\u001b[0;34m.\u001b[0m\u001b[0mcolor\u001b[0m\u001b[0;34m\u001b[0m\u001b[0;34m\u001b[0m\u001b[0m\n\u001b[0m",
            "\u001b[0;31mAttributeError\u001b[0m: 'Lower' object has no attribute 'color'"
          ]
        }
      ]
    },
    {
      "cell_type": "code",
      "source": [],
      "metadata": {
        "id": "bIJ-DesVQ8XQ"
      },
      "execution_count": null,
      "outputs": []
    }
  ]
}