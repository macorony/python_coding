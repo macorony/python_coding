{
  "nbformat": 4,
  "nbformat_minor": 0,
  "metadata": {
    "colab": {
      "provenance": [],
      "authorship_tag": "ABX9TyMsIKVX5+VQnOvOf0qKBIjM",
      "include_colab_link": true
    },
    "kernelspec": {
      "name": "python3",
      "display_name": "Python 3"
    },
    "language_info": {
      "name": "python"
    }
  },
  "cells": [
    {
      "cell_type": "markdown",
      "metadata": {
        "id": "view-in-github",
        "colab_type": "text"
      },
      "source": [
        "<a href=\"https://colab.research.google.com/github/macorony/python_coding/blob/main/OOP.ipynb\" target=\"_parent\"><img src=\"https://colab.research.google.com/assets/colab-badge.svg\" alt=\"Open In Colab\"/></a>"
      ]
    },
    {
      "cell_type": "code",
      "execution_count": 1,
      "metadata": {
        "id": "J5RLPthFon7j"
      },
      "outputs": [],
      "source": [
        "class Dog:\n",
        "  pass"
      ]
    },
    {
      "cell_type": "code",
      "source": [
        "a_dog =  Dog()"
      ],
      "metadata": {
        "id": "pThsafKGr0wD"
      },
      "execution_count": 2,
      "outputs": []
    },
    {
      "cell_type": "code",
      "source": [
        "a_dog"
      ],
      "metadata": {
        "colab": {
          "base_uri": "https://localhost:8080/"
        },
        "id": "JssQZuLvr97P",
        "outputId": "6ae79042-1c94-4938-9a2c-920ba344309c"
      },
      "execution_count": 3,
      "outputs": [
        {
          "output_type": "execute_result",
          "data": {
            "text/plain": [
              "<__main__.Dog at 0x7c8372f51780>"
            ]
          },
          "metadata": {},
          "execution_count": 3
        }
      ]
    },
    {
      "cell_type": "code",
      "source": [
        "class Dog:\n",
        "  # class attribute\n",
        "  attr1 = \"mammal\"\n",
        "  # instance attribute\n",
        "  def __init__(self, name):\n",
        "    self.name = name"
      ],
      "metadata": {
        "id": "CoReHcYqr-9C"
      },
      "execution_count": 4,
      "outputs": []
    },
    {
      "cell_type": "code",
      "source": [
        "rodger = Dog(\"Rodger\")\n",
        "tommy = Dog(\"Tommy\")"
      ],
      "metadata": {
        "id": "5z1YuYoLs3V6"
      },
      "execution_count": 5,
      "outputs": []
    },
    {
      "cell_type": "code",
      "source": [
        "print(rodger)\n",
        "print(tommy)"
      ],
      "metadata": {
        "colab": {
          "base_uri": "https://localhost:8080/"
        },
        "id": "QQF-jj63s_Kz",
        "outputId": "a1732086-022d-48a6-c4fb-dff24581c309"
      },
      "execution_count": 6,
      "outputs": [
        {
          "output_type": "stream",
          "name": "stdout",
          "text": [
            "<__main__.Dog object at 0x7c8372f51a20>\n",
            "<__main__.Dog object at 0x7c8372f515d0>\n"
          ]
        }
      ]
    },
    {
      "cell_type": "code",
      "source": [
        "print(\"Rodger is a {}\".format(rodger.__class__.attr1))\n",
        "print(f\"Tommy is a {tommy.__class__.attr1}\")\n",
        "print(f\"Its name is {rodger.name}\")\n",
        "print(f\"Its name is {tommy.name}\")"
      ],
      "metadata": {
        "colab": {
          "base_uri": "https://localhost:8080/"
        },
        "id": "oVge3j_XtD_u",
        "outputId": "4c9274a3-9164-4273-f21b-c6dce354a212"
      },
      "execution_count": 7,
      "outputs": [
        {
          "output_type": "stream",
          "name": "stdout",
          "text": [
            "Rodger is a mammal\n",
            "Tommy is a mammal\n",
            "Its name is Rodger\n",
            "Its name is Tommy\n"
          ]
        }
      ]
    },
    {
      "cell_type": "code",
      "source": [
        "class Dog:\n",
        "  # class attribute\n",
        "  attr1 = \"mammal\"\n",
        "  # instance\n",
        "  def __init__(self, name):\n",
        "    self.name = name\n",
        "  def speak(self):\n",
        "    print(\"My name is {}\".format(self.name))\n",
        "\n",
        "  def bark(self):\n",
        "    print(\"wang wang!!!\")\n"
      ],
      "metadata": {
        "id": "7_KYWUqmtrfw"
      },
      "execution_count": 8,
      "outputs": []
    },
    {
      "cell_type": "code",
      "source": [
        "jackson = Dog(\"Jackson\")"
      ],
      "metadata": {
        "id": "KJbQ1uhZvIcE"
      },
      "execution_count": 9,
      "outputs": []
    },
    {
      "cell_type": "code",
      "source": [
        "jackson.bark()"
      ],
      "metadata": {
        "colab": {
          "base_uri": "https://localhost:8080/"
        },
        "id": "bFUeZZHFvN0E",
        "outputId": "5dd07664-1edb-43ae-d6af-73ee0e468cfb"
      },
      "execution_count": 10,
      "outputs": [
        {
          "output_type": "stream",
          "name": "stdout",
          "text": [
            "wang wang!!!\n"
          ]
        }
      ]
    },
    {
      "cell_type": "code",
      "source": [
        "# parent class\n",
        "class Person(object):\n",
        "  def __init__(self, name, idnumber):\n",
        "    self.name = name\n",
        "    self.idnumber = idnumber\n",
        "\n",
        "  def display(self):\n",
        "    print(self.name)\n",
        "    print(self.idnumber)\n",
        "  def details(self):\n",
        "    print(\"My name is {}\".format(self.name))\n",
        "    print(\"My idnumber is {}\".format(self.idnumber))\n",
        "\n",
        "# child class\n",
        "class Employee(Person):\n",
        "  def __init__(self, name, idnumber, salary, post):\n",
        "    self.salary =  salary\n",
        "    self.post = post\n",
        "    # invoking the __init__ of the parent class\n",
        "    Person.__init__(self, name, idnumber)\n",
        "\n",
        "  def details(self):\n",
        "    print(\"My name is {}\".format(self.name))\n",
        "    print(\"Idnumber is {}\".format(self.idnumber))\n",
        "    print(\"Post is {}\".format(self.post))"
      ],
      "metadata": {
        "id": "07RuEGfdwb69"
      },
      "execution_count": 11,
      "outputs": []
    },
    {
      "cell_type": "code",
      "source": [
        "one = Employee(\"John\", 123456, 80000, \"Associate\")\n",
        "one.display()\n",
        "one.details()"
      ],
      "metadata": {
        "colab": {
          "base_uri": "https://localhost:8080/"
        },
        "id": "2pVdWKBmwakN",
        "outputId": "aeb501e0-2a6d-4b4c-9232-d68cf02bc62a"
      },
      "execution_count": 12,
      "outputs": [
        {
          "output_type": "stream",
          "name": "stdout",
          "text": [
            "John\n",
            "123456\n",
            "My name is John\n",
            "Idnumber is 123456\n",
            "Post is Associate\n"
          ]
        }
      ]
    },
    {
      "cell_type": "code",
      "source": [
        "class Bird:\n",
        "  def intro(self):\n",
        "    print(\"There are man types of birds\")\n",
        "\n",
        "  def flight(self):\n",
        "    print(\"Most of the birds can fly but some cannot\")\n",
        "\n",
        "class Sparrow(Bird):\n",
        "  def flight(self):\n",
        "    print(\"Sparrows can fly\")\n",
        "\n",
        "class Ostrich(Bird):\n",
        "  def flight(self):\n",
        "    print(\"Ostriches cannot fly\")\n"
      ],
      "metadata": {
        "id": "U56oEL2jvS0J"
      },
      "execution_count": 15,
      "outputs": []
    },
    {
      "cell_type": "code",
      "source": [
        "aBird = Bird()\n",
        "aSparrow = Sparrow()\n",
        "aOstrich = Ostrich()"
      ],
      "metadata": {
        "id": "QphH0DykIkbS"
      },
      "execution_count": 16,
      "outputs": []
    },
    {
      "cell_type": "code",
      "source": [
        "aBird.intro()\n",
        "aBird.flight()"
      ],
      "metadata": {
        "id": "_CNFOARhzgPp",
        "colab": {
          "base_uri": "https://localhost:8080/"
        },
        "outputId": "05b92073-e8fb-43bb-868b-e2b74bc7ac10"
      },
      "execution_count": 18,
      "outputs": [
        {
          "output_type": "stream",
          "name": "stdout",
          "text": [
            "There are man types of birds\n",
            "Most of the birds can fly but some cannot\n"
          ]
        }
      ]
    },
    {
      "cell_type": "code",
      "source": [
        "aSparrow.intro()\n",
        "aSparrow.flight()"
      ],
      "metadata": {
        "colab": {
          "base_uri": "https://localhost:8080/"
        },
        "id": "vv2FWPSKJY7m",
        "outputId": "fec456c1-a1dc-4631-b1c7-263dc520d6b1"
      },
      "execution_count": 20,
      "outputs": [
        {
          "output_type": "stream",
          "name": "stdout",
          "text": [
            "There are man types of birds\n",
            "Sparrows can fly\n"
          ]
        }
      ]
    },
    {
      "cell_type": "code",
      "source": [
        "aOstrich.intro()\n",
        "aOstrich.flight()"
      ],
      "metadata": {
        "colab": {
          "base_uri": "https://localhost:8080/"
        },
        "id": "yjj2yVCTKDoS",
        "outputId": "cdc81a5a-56ce-42b1-8e87-25867ed0b5e2"
      },
      "execution_count": 21,
      "outputs": [
        {
          "output_type": "stream",
          "name": "stdout",
          "text": [
            "There are man types of birds\n",
            "Ostriches cannot fly\n"
          ]
        }
      ]
    },
    {
      "cell_type": "code",
      "source": [
        "class Base:\n",
        "  def __init__(self):\n",
        "    self.a = \"hello world\"\n",
        "    self.__c = \"invisible expression\"\n",
        "\n",
        "class Derived(Base):\n",
        "  def __init__(self):\n",
        "    Base.__init__(self)\n",
        "    print(\"I am the child of the base class\")\n",
        "    # print(self.__c)"
      ],
      "metadata": {
        "id": "x_NBGGMSJsLO"
      },
      "execution_count": 41,
      "outputs": []
    },
    {
      "cell_type": "code",
      "source": [
        "obj1 = Base()\n",
        "print(obj1.a)"
      ],
      "metadata": {
        "colab": {
          "base_uri": "https://localhost:8080/"
        },
        "id": "0109RIJWMxrG",
        "outputId": "ca926d1d-0abb-4189-ed51-c0f736f49bc6"
      },
      "execution_count": 42,
      "outputs": [
        {
          "output_type": "stream",
          "name": "stdout",
          "text": [
            "hello world\n"
          ]
        }
      ]
    },
    {
      "cell_type": "code",
      "source": [
        "obj2 = Derived()"
      ],
      "metadata": {
        "colab": {
          "base_uri": "https://localhost:8080/"
        },
        "id": "wWV4QYVYULIm",
        "outputId": "e4296131-39f2-4972-8008-2b71ce3df6b6"
      },
      "execution_count": 44,
      "outputs": [
        {
          "output_type": "stream",
          "name": "stdout",
          "text": [
            "I am the child of the base class\n"
          ]
        }
      ]
    },
    {
      "cell_type": "code",
      "source": [
        "class Parent():\n",
        "  def __init__(self):\n",
        "    self.name = \"Wang\"\n",
        "    self.age = 34"
      ],
      "metadata": {
        "id": "P9V2CQdjUNSN"
      },
      "execution_count": 47,
      "outputs": []
    },
    {
      "cell_type": "code",
      "source": [
        "class Child(Parent):\n",
        "  def __init__(self, relation):\n",
        "    self.relation = relation\n",
        "    Parent.__init__(self)"
      ],
      "metadata": {
        "id": "mRJbvHSyd10_"
      },
      "execution_count": 53,
      "outputs": []
    },
    {
      "cell_type": "code",
      "source": [
        "aChild = Child(\"blood\")"
      ],
      "metadata": {
        "id": "6wL3E6CCercl"
      },
      "execution_count": 54,
      "outputs": []
    },
    {
      "cell_type": "code",
      "source": [
        "aChild.age"
      ],
      "metadata": {
        "colab": {
          "base_uri": "https://localhost:8080/"
        },
        "id": "Yslg3ApkfACo",
        "outputId": "356a1e5e-6e57-4d4e-d9d4-f459600db6e0"
      },
      "execution_count": 57,
      "outputs": [
        {
          "output_type": "execute_result",
          "data": {
            "text/plain": [
              "34"
            ]
          },
          "metadata": {},
          "execution_count": 57
        }
      ]
    },
    {
      "cell_type": "code",
      "source": [
        "class com"
      ],
      "metadata": {
        "id": "KAapKuNefdM6"
      },
      "execution_count": null,
      "outputs": []
    }
  ]
}