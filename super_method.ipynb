{
  "nbformat": 4,
  "nbformat_minor": 0,
  "metadata": {
    "colab": {
      "provenance": [],
      "authorship_tag": "ABX9TyOSBAcMmus9sj/Chg7FOJRN",
      "include_colab_link": true
    },
    "kernelspec": {
      "name": "python3",
      "display_name": "Python 3"
    },
    "language_info": {
      "name": "python"
    }
  },
  "cells": [
    {
      "cell_type": "markdown",
      "metadata": {
        "id": "view-in-github",
        "colab_type": "text"
      },
      "source": [
        "<a href=\"https://colab.research.google.com/github/macorony/python_coding/blob/main/super_method.ipynb\" target=\"_parent\"><img src=\"https://colab.research.google.com/assets/colab-badge.svg\" alt=\"Open In Colab\"/></a>"
      ]
    },
    {
      "cell_type": "markdown",
      "source": [
        "## Understanding `super().__init__` mechanics\n",
        "`super()` alone returns a temporary object of the superclass that then allows your to call that superclass's methods"
      ],
      "metadata": {
        "id": "eCKi_U23RlcZ"
      }
    },
    {
      "cell_type": "code",
      "source": [
        "class Base:\n",
        "  def __init__(self):\n",
        "    print(\"Base.__init__\")\n",
        "    print(\"reprint\")\n",
        "\n",
        "class A(Base):\n",
        "  def __init__(self):\n",
        "    print(\"A.__init__ before super\")\n",
        "    super().__init__()\n",
        "    print(\"A.__init__ after super\")\n",
        "\n",
        "oneA = A()"
      ],
      "metadata": {
        "colab": {
          "base_uri": "https://localhost:8080/"
        },
        "id": "SKrxx8HjRmVN",
        "outputId": "6aba2944-fdc6-4d4b-b539-b5263bf5d17e"
      },
      "execution_count": 6,
      "outputs": [
        {
          "output_type": "stream",
          "name": "stdout",
          "text": [
            "A.__init__ before super\n",
            "Base.__init__\n",
            "reprint\n",
            "A.__init__ after super\n"
          ]
        }
      ]
    },
    {
      "cell_type": "code",
      "source": [
        "class B(Base):\n",
        "  def __init__(self):\n",
        "    print('B.__init__ before super')\n",
        "    super().__init__()\n",
        "    print('B.__init__ after super')\n",
        "\n",
        "oneB = B()"
      ],
      "metadata": {
        "colab": {
          "base_uri": "https://localhost:8080/"
        },
        "id": "vwNlwfRNWJ54",
        "outputId": "ae5eb9cc-8659-497a-9438-5e93044efac0"
      },
      "execution_count": 5,
      "outputs": [
        {
          "output_type": "stream",
          "name": "stdout",
          "text": [
            "B.__init__ before super\n",
            "Base.__init__\n",
            "reprint\n",
            "B.__init__ after super\n"
          ]
        }
      ]
    },
    {
      "cell_type": "code",
      "source": [
        "print(\"B's MRO:\", [cls.__name__ for cls in B.__mro__])"
      ],
      "metadata": {
        "colab": {
          "base_uri": "https://localhost:8080/"
        },
        "id": "EhFasDiHWZX4",
        "outputId": "7294e1fc-3f3e-4615-c642-c5b8582ae2e4"
      },
      "execution_count": 9,
      "outputs": [
        {
          "output_type": "stream",
          "name": "stdout",
          "text": [
            "B's MRO: ['B', 'Base', 'object']\n"
          ]
        }
      ]
    },
    {
      "cell_type": "code",
      "source": [
        "print(\"Base' MRO:\", [cls.__name__ for cls in Base.__mro__])"
      ],
      "metadata": {
        "colab": {
          "base_uri": "https://localhost:8080/"
        },
        "id": "OvzXc9-feGBZ",
        "outputId": "12a043df-bed8-4cdc-eab0-a718262ae76d"
      },
      "execution_count": 10,
      "outputs": [
        {
          "output_type": "stream",
          "name": "stdout",
          "text": [
            "Base' MRO: ['Base', 'object']\n"
          ]
        }
      ]
    },
    {
      "cell_type": "markdown",
      "source": [
        "Under the hood, when `oneB = B()` is executed:\n",
        "\n",
        "The `__init__` method of the B class is called.\n",
        "Inside the `B.__init__` method, `super().__init__()` is called.\n",
        "The super object looks at the MRO and determines that the next class in the hierarchy with an `__init__` method is `Base`.\n",
        "The `Base.__init__` method is then called, and the output `Base.__init__` is printed.\n",
        "After the `Base.__init__` method completes, the execution returns to the `B.__init__` method, and the output `B.__init__` after super is printed.\n"
      ],
      "metadata": {
        "id": "g7cMA521WXvs"
      }
    },
    {
      "cell_type": "code",
      "source": [
        "class reversed_C(B, A):\n",
        "  def __init__(self):\n",
        "    print('reversed_C.__init__ before super')\n",
        "    super().__init__()\n",
        "    print('reversed_C.__init__ after super')\n",
        "reversed_oneC = reversed_C()"
      ],
      "metadata": {
        "id": "pxE4w61r6Vmo",
        "outputId": "ff42b41b-37ee-491c-feb7-81d90d308864",
        "colab": {
          "base_uri": "https://localhost:8080/"
        }
      },
      "execution_count": 8,
      "outputs": [
        {
          "output_type": "stream",
          "name": "stdout",
          "text": [
            "reversed_C.__init__ before super\n",
            "B.__init__ before super\n",
            "Base.__init__\n",
            "reprint\n",
            "B.__init__ after super\n",
            "reversed_C.__init__ after super\n"
          ]
        }
      ]
    },
    {
      "cell_type": "code",
      "source": [],
      "metadata": {
        "id": "hjGSV_UNZogP"
      },
      "execution_count": null,
      "outputs": []
    }
  ]
}